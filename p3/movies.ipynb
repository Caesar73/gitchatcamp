{
 "cells": [
  {
   "cell_type": "code",
   "execution_count": 1,
   "metadata": {},
   "outputs": [
    {
     "data": {
      "text/plain": [
       "'https://github.com/Caesar73/gitchatcamp/blob/master/p3/movies.ipynb'"
      ]
     },
     "execution_count": 1,
     "metadata": {},
     "output_type": "execute_result"
    }
   ],
   "source": [
    "'''https://github.com/Caesar73/gitchatcamp/blob/master/p3/movies.ipynb'''"
   ]
  },
  {
   "cell_type": "code",
   "execution_count": 2,
   "metadata": {},
   "outputs": [
    {
     "name": "stderr",
     "output_type": "stream",
     "text": [
      "/usr/local/Cellar/python/3.6.5/Frameworks/Python.framework/Versions/3.6/lib/python3.6/importlib/_bootstrap.py:219: RuntimeWarning: numpy.dtype size changed, may indicate binary incompatibility. Expected 96, got 88\n",
      "  return f(*args, **kwds)\n",
      "/usr/local/Cellar/python/3.6.5/Frameworks/Python.framework/Versions/3.6/lib/python3.6/importlib/_bootstrap.py:219: RuntimeWarning: numpy.dtype size changed, may indicate binary incompatibility. Expected 96, got 88\n",
      "  return f(*args, **kwds)\n",
      "/usr/local/lib/python3.6/site-packages/sklearn/cross_validation.py:41: DeprecationWarning: This module was deprecated in version 0.18 in favor of the model_selection module into which all the refactored classes and functions are moved. Also note that the interface of the new CV iterators are different from that of this module. This module will be removed in 0.20.\n",
      "  \"This module will be removed in 0.20.\", DeprecationWarning)\n",
      "/usr/local/lib/python3.6/site-packages/sklearn/ensemble/weight_boosting.py:29: DeprecationWarning: numpy.core.umath_tests is an internal NumPy module and should not be imported. It will be removed in a future NumPy release.\n",
      "  from numpy.core.umath_tests import inner1d\n"
     ]
    }
   ],
   "source": [
    "import time\n",
    "\n",
    "import numpy as np\n",
    "import pandas as pd\n",
    "from matplotlib import cm, pyplot as plt\n",
    "\n",
    "from sklearn.metrics import accuracy_score\n",
    "from sklearn.preprocessing import LabelEncoder, StandardScaler, OneHotEncoder, LabelBinarizer, MultiLabelBinarizer\n",
    "# 网格搜索和随机搜索\n",
    "from sklearn.model_selection import GridSearchCV, RandomizedSearchCV\n",
    "from sklearn.cross_validation import train_test_split\n",
    "# 随机森林\n",
    "from sklearn.ensemble import RandomForestClassifier\n",
    "# 文本特性抽取器 CountVectorizer 和 TfidfVectorizer\n",
    "from sklearn.feature_extraction.text import CountVectorizer,TfidfVectorizer\n",
    "# 朴素贝叶斯模型\n",
    "from sklearn.naive_bayes import MultinomialNB\n",
    "# Pipeline 用于方便搭建系统流程\n",
    "from sklearn.pipeline import Pipeline \n",
    "# GridSearchCV 用于超参数组合的网格搜索\n",
    "# from sklearn.grid_search import GridSearchCV "
   ]
  },
  {
   "cell_type": "code",
   "execution_count": 3,
   "metadata": {},
   "outputs": [],
   "source": [
    "# 导入 Stock 数据\n",
    "data = pd.read_csv(\"../input/movies_dataset.csv\")\n",
    "data = data.dropna()\n",
    "\n",
    "''' \n",
    "clean_z = data['region'].fillna(0)\n",
    "clean_z[clean_z == ''] = float('nan')\n",
    "data['region'] = clean_z\n",
    "\n",
    "data = data.dropna()\n",
    "\n",
    "data = data[data['rate'] > 0]\n",
    "data = data[data['votes'] > 0]\n",
    "data = data[data['runtime'] > 0]\n",
    "\n",
    "data['rate']=data['rate'].applymap(lambda x: float(x) if x.isdigit() else -1)\n",
    "data = data[data['rate']>0]\n",
    "'''\n",
    "\n",
    "'''\n",
    "\n",
    "for i in range(len(data)):\n",
    "    rate = float(data['rate'][i])\n",
    "    votes = float(data['votes'][i])\n",
    "    region = data['region'][i]\n",
    "    runtime = float(data['runtime'][i])\n",
    "    #print(region)\n",
    "    if pd.isna(region):\n",
    "        print(region)\n",
    "        data = data.drop(i)\n",
    "    elif region.isdigit():\n",
    "        print(region)\n",
    "        data = data.drop(i)\n",
    "'''\n",
    "\n",
    "# ^_^ 借用一下楼下 JAVA哥哥滴代码\n",
    "# T_T 自己的方法回头改改\n",
    "used_features = [\"director\", \"starring\",\"type\",\"rate\",\"votes\",\"region\",\"runtime\",\"language\",\"company\"]\n",
    "data=data[used_features].applymap(lambda x: x.replace(\"\\'\",'').replace(r\"\\n\",\"\")\n",
    "                                  .strip()).applymap(lambda x: np.NaN if str(x).isspace() or x=='null' else x)\n",
    "data.dropna(axis=0, how='any', inplace=True)\n",
    "number_features = ['rate','votes','runtime']\n",
    "data[number_features]=data[number_features].applymap(lambda x: float(x) if x.isdigit() else -1)\n",
    "data = data[data['votes']>0]\n",
    "data = data[data['rate']>0]\n",
    "data = data[data['runtime']>0]\n",
    "\n",
    "data[['rate','votes','runtime']] = data[['rate','votes','runtime']].apply(pd.to_numeric)"
   ]
  },
  {
   "cell_type": "code",
   "execution_count": 4,
   "metadata": {},
   "outputs": [
    {
     "data": {
      "text/html": [
       "<div>\n",
       "<style scoped>\n",
       "    .dataframe tbody tr th:only-of-type {\n",
       "        vertical-align: middle;\n",
       "    }\n",
       "\n",
       "    .dataframe tbody tr th {\n",
       "        vertical-align: top;\n",
       "    }\n",
       "\n",
       "    .dataframe thead th {\n",
       "        text-align: right;\n",
       "    }\n",
       "</style>\n",
       "<table border=\"1\" class=\"dataframe\">\n",
       "  <thead>\n",
       "    <tr style=\"text-align: right;\">\n",
       "      <th></th>\n",
       "      <th>director</th>\n",
       "      <th>starring</th>\n",
       "      <th>type</th>\n",
       "      <th>rate</th>\n",
       "      <th>votes</th>\n",
       "      <th>region</th>\n",
       "      <th>runtime</th>\n",
       "      <th>language</th>\n",
       "      <th>company</th>\n",
       "    </tr>\n",
       "  </thead>\n",
       "  <tbody>\n",
       "    <tr>\n",
       "      <th>23</th>\n",
       "      <td>迈克·李</td>\n",
       "      <td>大卫·休里斯 莱丝莉·夏普 凯特琳·卡特利吉</td>\n",
       "      <td>剧情 喜剧</td>\n",
       "      <td>8.0</td>\n",
       "      <td>174.0</td>\n",
       "      <td>英国</td>\n",
       "      <td>131.0</td>\n",
       "      <td>英语</td>\n",
       "      <td>标准收藏</td>\n",
       "    </tr>\n",
       "    <tr>\n",
       "      <th>71</th>\n",
       "      <td>柳承莞</td>\n",
       "      <td>李慧英 全度妍 郑在泳</td>\n",
       "      <td>动作 剧情</td>\n",
       "      <td>7.0</td>\n",
       "      <td>15.0</td>\n",
       "      <td>韩国</td>\n",
       "      <td>116.0</td>\n",
       "      <td>韩语</td>\n",
       "      <td>Cinema Service</td>\n",
       "    </tr>\n",
       "    <tr>\n",
       "      <th>93</th>\n",
       "      <td>刘伟强</td>\n",
       "      <td>刘德华 郑伊健 张家辉</td>\n",
       "      <td>动作 奇幻 科幻 冒险 喜剧</td>\n",
       "      <td>6.0</td>\n",
       "      <td>2983.0</td>\n",
       "      <td>中国香港</td>\n",
       "      <td>106.0</td>\n",
       "      <td>粤语</td>\n",
       "      <td>MC-One (Media Cooperation One) GmbH</td>\n",
       "    </tr>\n",
       "    <tr>\n",
       "      <th>112</th>\n",
       "      <td>吉姆·谢里丹</td>\n",
       "      <td>萨曼莎·莫顿 杰曼·翰苏 莎拉·伯格</td>\n",
       "      <td>爱情 剧情</td>\n",
       "      <td>8.0</td>\n",
       "      <td>101.0</td>\n",
       "      <td>爱尔兰  英国</td>\n",
       "      <td>105.0</td>\n",
       "      <td>英语</td>\n",
       "      <td>20世纪福克斯公司</td>\n",
       "    </tr>\n",
       "    <tr>\n",
       "      <th>139</th>\n",
       "      <td>加布里尔·穆奇诺</td>\n",
       "      <td>斯蒂芬努·阿科西 斯蒂芬尼娅·桑德雷莉 玛蒂娜·斯黛拉</td>\n",
       "      <td>剧情 喜剧</td>\n",
       "      <td>8.0</td>\n",
       "      <td>93.0</td>\n",
       "      <td>意大利</td>\n",
       "      <td>115.0</td>\n",
       "      <td>意大利语</td>\n",
       "      <td>Medusa Distribuzione</td>\n",
       "    </tr>\n",
       "  </tbody>\n",
       "</table>\n",
       "</div>"
      ],
      "text/plain": [
       "     director                     starring            type  rate   votes  \\\n",
       "23       迈克·李       大卫·休里斯 莱丝莉·夏普 凯特琳·卡特利吉           剧情 喜剧   8.0   174.0   \n",
       "71        柳承莞                  李慧英 全度妍 郑在泳           动作 剧情   7.0    15.0   \n",
       "93        刘伟强                  刘德华 郑伊健 张家辉  动作 奇幻 科幻 冒险 喜剧   6.0  2983.0   \n",
       "112    吉姆·谢里丹           萨曼莎·莫顿 杰曼·翰苏 莎拉·伯格           爱情 剧情   8.0   101.0   \n",
       "139  加布里尔·穆奇诺  斯蒂芬努·阿科西 斯蒂芬尼娅·桑德雷莉 玛蒂娜·斯黛拉           剧情 喜剧   8.0    93.0   \n",
       "\n",
       "      region  runtime language                              company  \n",
       "23        英国    131.0       英语                                 标准收藏  \n",
       "71        韩国    116.0       韩语                       Cinema Service  \n",
       "93      中国香港    106.0       粤语  MC-One (Media Cooperation One) GmbH  \n",
       "112  爱尔兰  英国    105.0       英语                            20世纪福克斯公司  \n",
       "139      意大利    115.0     意大利语                 Medusa Distribuzione  "
      ]
     },
     "execution_count": 4,
     "metadata": {},
     "output_type": "execute_result"
    }
   ],
   "source": [
    "data.head()"
   ]
  },
  {
   "cell_type": "code",
   "execution_count": 5,
   "metadata": {},
   "outputs": [
    {
     "name": "stdout",
     "output_type": "stream",
     "text": [
      "<class 'pandas.core.frame.DataFrame'>\n",
      "Int64Index: 1854 entries, 23 to 179372\n",
      "Data columns (total 9 columns):\n",
      "director    1854 non-null object\n",
      "starring    1854 non-null object\n",
      "type        1854 non-null object\n",
      "rate        1854 non-null float64\n",
      "votes       1854 non-null float64\n",
      "region      1854 non-null object\n",
      "runtime     1854 non-null float64\n",
      "language    1854 non-null object\n",
      "company     1854 non-null object\n",
      "dtypes: float64(3), object(6)\n",
      "memory usage: 144.8+ KB\n"
     ]
    }
   ],
   "source": [
    "data.info()"
   ]
  },
  {
   "cell_type": "code",
   "execution_count": 6,
   "metadata": {},
   "outputs": [
    {
     "name": "stdout",
     "output_type": "stream",
     "text": [
      "['director', 'starring', 'type', 'region', 'language', 'company']\n"
     ]
    }
   ],
   "source": [
    "# 数据预处理，将非数值型数据转换为数值型\n",
    "columnsToEncode = list(data.select_dtypes(include=['object']))\n",
    "print(columnsToEncode)\n",
    "for feature in columnsToEncode:\n",
    "    try:\n",
    "        data[feature] = LabelEncoder().fit_transform(data[feature])\n",
    "    except:\n",
    "        print('Error encoding ' + feature)\n",
    "\n",
    "X = data\n",
    "y = data['rate']\n",
    "X = data.drop(['rate'], axis=1)"
   ]
  },
  {
   "cell_type": "code",
   "execution_count": 7,
   "metadata": {},
   "outputs": [
    {
     "data": {
      "text/html": [
       "<div>\n",
       "<style scoped>\n",
       "    .dataframe tbody tr th:only-of-type {\n",
       "        vertical-align: middle;\n",
       "    }\n",
       "\n",
       "    .dataframe tbody tr th {\n",
       "        vertical-align: top;\n",
       "    }\n",
       "\n",
       "    .dataframe thead th {\n",
       "        text-align: right;\n",
       "    }\n",
       "</style>\n",
       "<table border=\"1\" class=\"dataframe\">\n",
       "  <thead>\n",
       "    <tr style=\"text-align: right;\">\n",
       "      <th></th>\n",
       "      <th>director</th>\n",
       "      <th>starring</th>\n",
       "      <th>type</th>\n",
       "      <th>rate</th>\n",
       "      <th>votes</th>\n",
       "      <th>region</th>\n",
       "      <th>runtime</th>\n",
       "      <th>language</th>\n",
       "      <th>company</th>\n",
       "    </tr>\n",
       "  </thead>\n",
       "  <tbody>\n",
       "    <tr>\n",
       "      <th>23</th>\n",
       "      <td>1342</td>\n",
       "      <td>561</td>\n",
       "      <td>30</td>\n",
       "      <td>8.0</td>\n",
       "      <td>174.0</td>\n",
       "      <td>196</td>\n",
       "      <td>131.0</td>\n",
       "      <td>91</td>\n",
       "      <td>621</td>\n",
       "    </tr>\n",
       "    <tr>\n",
       "      <th>71</th>\n",
       "      <td>922</td>\n",
       "      <td>893</td>\n",
       "      <td>95</td>\n",
       "      <td>7.0</td>\n",
       "      <td>15.0</td>\n",
       "      <td>234</td>\n",
       "      <td>116.0</td>\n",
       "      <td>192</td>\n",
       "      <td>119</td>\n",
       "    </tr>\n",
       "    <tr>\n",
       "      <th>93</th>\n",
       "      <td>385</td>\n",
       "      <td>428</td>\n",
       "      <td>136</td>\n",
       "      <td>6.0</td>\n",
       "      <td>2983.0</td>\n",
       "      <td>14</td>\n",
       "      <td>106.0</td>\n",
       "      <td>80</td>\n",
       "      <td>309</td>\n",
       "    </tr>\n",
       "    <tr>\n",
       "      <th>112</th>\n",
       "      <td>445</td>\n",
       "      <td>1439</td>\n",
       "      <td>435</td>\n",
       "      <td>8.0</td>\n",
       "      <td>101.0</td>\n",
       "      <td>148</td>\n",
       "      <td>105.0</td>\n",
       "      <td>91</td>\n",
       "      <td>4</td>\n",
       "    </tr>\n",
       "    <tr>\n",
       "      <th>139</th>\n",
       "      <td>404</td>\n",
       "      <td>818</td>\n",
       "      <td>30</td>\n",
       "      <td>8.0</td>\n",
       "      <td>93.0</td>\n",
       "      <td>68</td>\n",
       "      <td>115.0</td>\n",
       "      <td>28</td>\n",
       "      <td>330</td>\n",
       "    </tr>\n",
       "  </tbody>\n",
       "</table>\n",
       "</div>"
      ],
      "text/plain": [
       "     director  starring  type  rate   votes  region  runtime  language  \\\n",
       "23       1342       561    30   8.0   174.0     196    131.0        91   \n",
       "71        922       893    95   7.0    15.0     234    116.0       192   \n",
       "93        385       428   136   6.0  2983.0      14    106.0        80   \n",
       "112       445      1439   435   8.0   101.0     148    105.0        91   \n",
       "139       404       818    30   8.0    93.0      68    115.0        28   \n",
       "\n",
       "     company  \n",
       "23       621  \n",
       "71       119  \n",
       "93       309  \n",
       "112        4  \n",
       "139      330  "
      ]
     },
     "execution_count": 7,
     "metadata": {},
     "output_type": "execute_result"
    }
   ],
   "source": [
    "data.head()"
   ]
  },
  {
   "cell_type": "code",
   "execution_count": 8,
   "metadata": {},
   "outputs": [],
   "source": [
    "# 数据建模\n",
    "scaler = StandardScaler()\n",
    "X = scaler.fit_transform(X)\n",
    "y = np.array(y).astype(int)\n",
    "\n",
    "X_train, X_test, y_train, y_test = train_test_split(X, y, test_size=0.25, random_state=33)"
   ]
  },
  {
   "cell_type": "code",
   "execution_count": 11,
   "metadata": {},
   "outputs": [
    {
     "name": "stdout",
     "output_type": "stream",
     "text": [
      "Fitting 4 folds for each of 18 candidates, totalling 72 fits\n"
     ]
    },
    {
     "name": "stderr",
     "output_type": "stream",
     "text": [
      "/usr/local/lib/python3.6/site-packages/sklearn/model_selection/_split.py:605: Warning: The least populated class in y has only 2 members, which is too few. The minimum number of members in any class cannot be less than n_splits=4.\n",
      "  % (min_groups, self.n_splits)), Warning)\n",
      "[Parallel(n_jobs=1)]: Done  72 out of  72 | elapsed:   46.3s finished\n"
     ]
    },
    {
     "data": {
      "text/plain": [
       "47.322046995162964"
      ]
     },
     "execution_count": 11,
     "metadata": {},
     "output_type": "execute_result"
    }
   ],
   "source": [
    "# 设置随机森林参数网络\n",
    "start = time.time()\n",
    "rf_param_grid = {\n",
    "    \"max_depth\": [10],\n",
    "    \"max_features\": [3],\n",
    "    \"min_samples_split\": [2, 3, 10],\n",
    "    \"min_samples_leaf\": [1, 3, 10],\n",
    "    \"bootstrap\": [False],\n",
    "    \"n_estimators\" :[100,300],\n",
    "    \"criterion\": [\"gini\"]\n",
    "}\n",
    "\n",
    "gsRFC = GridSearchCV(RandomForestClassifier(),\n",
    "                     param_grid = rf_param_grid, cv=4, scoring=\"accuracy\", n_jobs= 1, verbose = 1)\n",
    "gsRFC.fit(X_train,y_train)\n",
    "RFC_best = gsRFC.best_estimator_\n",
    "\n",
    "end = time.time() - start\n",
    "end"
   ]
  },
  {
   "cell_type": "code",
   "execution_count": 12,
   "metadata": {},
   "outputs": [
    {
     "name": "stdout",
     "output_type": "stream",
     "text": [
      "RandomForestClassifier(bootstrap=False, class_weight=None, criterion='gini',\n",
      "            max_depth=10, max_features=3, max_leaf_nodes=None,\n",
      "            min_impurity_decrease=0.0, min_impurity_split=None,\n",
      "            min_samples_leaf=10, min_samples_split=2,\n",
      "            min_weight_fraction_leaf=0.0, n_estimators=300, n_jobs=1,\n",
      "            oob_score=False, random_state=None, verbose=0,\n",
      "            warm_start=False)\n"
     ]
    }
   ],
   "source": [
    "print(RFC_best)"
   ]
  },
  {
   "cell_type": "code",
   "execution_count": 13,
   "metadata": {},
   "outputs": [
    {
     "name": "stdout",
     "output_type": "stream",
     "text": [
      "0.5446043165467626\n"
     ]
    }
   ],
   "source": [
    "print(gsRFC.best_score_)"
   ]
  },
  {
   "cell_type": "code",
   "execution_count": 16,
   "metadata": {},
   "outputs": [
    {
     "name": "stderr",
     "output_type": "stream",
     "text": [
      "/usr/local/lib/python3.6/site-packages/sklearn/model_selection/_split.py:605: Warning: The least populated class in y has only 2 members, which is too few. The minimum number of members in any class cannot be less than n_splits=4.\n",
      "  % (min_groups, self.n_splits)), Warning)\n"
     ]
    },
    {
     "data": {
      "image/png": "[encoded data removed]",
      "text/plain": [
       "<Figure size 432x288 with 1 Axes>"
      ]
     },
     "metadata": {},
     "output_type": "display_data"
    }
   ],
   "source": [
    "# 学习曲线\n",
    "from sklearn.model_selection import learning_curve\n",
    "def plot_learning_curve(estimator, title, X, y, ylim=None, cv=None,\n",
    "                        n_jobs=1, train_sizes=np.linspace(.1, 1.0, 5)):\n",
    "    \"\"\"Generate a simple plot of the test and training learning curve\"\"\"\n",
    "    plt.figure()\n",
    "    plt.title(title)\n",
    "    if ylim is not None:\n",
    "        plt.ylim(*ylim)\n",
    "    plt.xlabel(\"Training examples\")\n",
    "    plt.ylabel(\"Score\")\n",
    "    train_sizes, train_scores, test_scores = learning_curve(\n",
    "        estimator, X, y, cv=cv, n_jobs=n_jobs, train_sizes=train_sizes)\n",
    "    train_scores_mean = np.mean(train_scores, axis=1)\n",
    "    train_scores_std = np.std(train_scores, axis=1)\n",
    "    test_scores_mean = np.mean(test_scores, axis=1)\n",
    "    test_scores_std = np.std(test_scores, axis=1)\n",
    "    plt.grid()\n",
    "\n",
    "    plt.fill_between(train_sizes, train_scores_mean - train_scores_std,\n",
    "                     train_scores_mean + train_scores_std, alpha=0.1,\n",
    "                     color=\"r\")\n",
    "    plt.fill_between(train_sizes, test_scores_mean - test_scores_std,\n",
    "                     test_scores_mean + test_scores_std, alpha=0.1, color=\"g\")\n",
    "    plt.plot(train_sizes, train_scores_mean, 'o-', color=\"r\",\n",
    "             label=\"Training score\")\n",
    "    plt.plot(train_sizes, test_scores_mean, 'o-', color=\"g\",\n",
    "             label=\"Cross-validation score\")\n",
    "\n",
    "    plt.legend(loc=\"best\")\n",
    "    return plt\n",
    "g = plot_learning_curve(gsRFC.best_estimator_,\"RF mearning curves\",X_train,y_train,cv=4)\n",
    "plt.show()"
   ]
  },
  {
   "cell_type": "code",
   "execution_count": null,
   "metadata": {},
   "outputs": [],
   "source": []
  }
 ],
 "metadata": {
  "kernelspec": {
   "display_name": "Python 3",
   "language": "python",
   "name": "python3"
  },
  "language_info": {
   "codemirror_mode": {
    "name": "ipython",
    "version": 3
   },
   "file_extension": ".py",
   "mimetype": "text/x-python",
   "name": "python",
   "nbconvert_exporter": "python",
   "pygments_lexer": "ipython3",
   "version": "3.6.5"
  }
 },
 "nbformat": 4,
 "nbformat_minor": 2
}
